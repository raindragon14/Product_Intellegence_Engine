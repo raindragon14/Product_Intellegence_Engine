{
 "cells": [
  {
   "cell_type": "markdown",
   "id": "750fc6b2",
   "metadata": {},
   "source": [
    "# 🚀 Product Intelligence Engine - Data Exploration\n",
    "\n",
    "Notebook ini digunakan untuk eksplorasi data hasil scraping dan processing."
   ]
  },
  {
   "cell_type": "code",
   "execution_count": null,
   "id": "d5715dff",
   "metadata": {},
   "outputs": [],
   "source": [
    "# Import libraries\n",
    "import pandas as pd\n",
    "import numpy as np\n",
    "import matplotlib.pyplot as plt\n",
    "import seaborn as sns\n",
    "from pathlib import Path\n",
    "import warnings\n",
    "\n",
    "warnings.filterwarnings('ignore')\n",
    "\n",
    "# Set style\n",
    "plt.style.use('seaborn-v0_8-darkgrid')\n",
    "sns.set_palette('husl')\n",
    "\n",
    "print('✅ Libraries imported successfully!')"
   ]
  },
  {
   "cell_type": "markdown",
   "id": "b30aa5d5",
   "metadata": {},
   "source": [
    "## 📂 Load Data"
   ]
  },
  {
   "cell_type": "code",
   "execution_count": null,
   "id": "dc678d97",
   "metadata": {},
   "outputs": [],
   "source": [
    "# Define paths\n",
    "DATA_DIR = Path('../data')\n",
    "RAW_DIR = DATA_DIR / 'raw'\n",
    "PROCESSED_DIR = DATA_DIR / 'processed'\n",
    "\n",
    "# List available files\n",
    "print('📁 Available files:')\n",
    "print('\\nRaw data files:')\n",
    "for f in RAW_DIR.glob('*.csv'):\n",
    "    print(f'   - {f.name}')\n",
    "\n",
    "print('\\nProcessed data files:')\n",
    "for f in PROCESSED_DIR.glob('*.csv'):\n",
    "    print(f'   - {f.name}')"
   ]
  },
  {
   "cell_type": "code",
   "execution_count": null,
   "id": "b5a6b149",
   "metadata": {},
   "outputs": [],
   "source": [
    "# Load the latest processed data\n",
    "processed_files = list(PROCESSED_DIR.glob('*.csv'))\n",
    "\n",
    "if processed_files:\n",
    "    latest_file = max(processed_files, key=lambda x: x.stat().st_ctime)\n",
    "    df = pd.read_csv(latest_file)\n",
    "    print(f'✅ Loaded: {latest_file.name}')\n",
    "    print(f'📊 Shape: {df.shape}')\n",
    "    print(f'\\nColumns: {list(df.columns)}')\n",
    "else:\n",
    "    print('❌ No processed data found. Please run the pipeline first.')\n",
    "    df = pd.DataFrame()"
   ]
  },
  {
   "cell_type": "code",
   "execution_count": null,
   "id": "a16b4d4c",
   "metadata": {},
   "outputs": [],
   "source": [
    "# Quick overview\n",
    "if not df.empty:\n",
    "    display(df.head())\n",
    "    print('\\n📋 Data Info:')\n",
    "    df.info()"
   ]
  },
  {
   "cell_type": "markdown",
   "id": "29497b92",
   "metadata": {},
   "source": [
    "## 📊 Data Analysis"
   ]
  },
  {
   "cell_type": "code",
   "execution_count": null,
   "id": "078c0bde",
   "metadata": {},
   "outputs": [],
   "source": [
    "# Basic statistics\n",
    "if not df.empty:\n",
    "    print('📈 Basic Statistics:\\n')\n",
    "    print(f'Total Reviews: {len(df):,}')\n",
    "    print(f'Average Rating: {df[\"rating\"].mean():.2f}/5.0')\n",
    "    print(f'Median Rating: {df[\"rating\"].median():.1f}')\n",
    "    print(f'Rating Std Dev: {df[\"rating\"].std():.2f}')\n",
    "    \n",
    "    if 'date' in df.columns:\n",
    "        df['date'] = pd.to_datetime(df['date'])\n",
    "        print(f'\\nDate Range: {df[\"date\"].min().date()} to {df[\"date\"].max().date()}')"
   ]
  },
  {
   "cell_type": "markdown",
   "id": "20274f81",
   "metadata": {},
   "source": [
    "### 📊 Category Distribution"
   ]
  },
  {
   "cell_type": "code",
   "execution_count": null,
   "id": "0349dacb",
   "metadata": {},
   "outputs": [],
   "source": [
    "if not df.empty and 'category' in df.columns:\n",
    "    # Category distribution\n",
    "    fig, (ax1, ax2) = plt.subplots(1, 2, figsize=(15, 5))\n",
    "    \n",
    "    # Bar chart\n",
    "    category_counts = df['category'].value_counts()\n",
    "    category_counts.plot(kind='barh', ax=ax1, color='skyblue')\n",
    "    ax1.set_title('📊 Category Distribution', fontsize=14, fontweight='bold')\n",
    "    ax1.set_xlabel('Count')\n",
    "    ax1.set_ylabel('Category')\n",
    "    \n",
    "    # Pie chart\n",
    "    category_counts.plot(kind='pie', ax=ax2, autopct='%1.1f%%', startangle=90)\n",
    "    ax2.set_title('📊 Category Percentage', fontsize=14, fontweight='bold')\n",
    "    ax2.set_ylabel('')\n",
    "    \n",
    "    plt.tight_layout()\n",
    "    plt.show()\n",
    "    \n",
    "    print('\\n📋 Category Breakdown:')\n",
    "    for cat, count in category_counts.items():\n",
    "        pct = (count / len(df)) * 100\n",
    "        print(f'   {cat}: {count} ({pct:.1f}%)')"
   ]
  },
  {
   "cell_type": "markdown",
   "id": "e93f171a",
   "metadata": {},
   "source": [
    "### 😊 Sentiment Analysis"
   ]
  },
  {
   "cell_type": "code",
   "execution_count": null,
   "id": "b9242b97",
   "metadata": {},
   "outputs": [],
   "source": [
    "if not df.empty and 'sentiment' in df.columns:\n",
    "    # Sentiment distribution\n",
    "    fig, axes = plt.subplots(1, 2, figsize=(15, 5))\n",
    "    \n",
    "    sentiment_counts = df['sentiment'].value_counts()\n",
    "    colors = {'positive': '#2ecc71', 'neutral': '#f39c12', 'negative': '#e74c3c'}\n",
    "    sentiment_colors = [colors.get(s, 'gray') for s in sentiment_counts.index]\n",
    "    \n",
    "    # Bar chart\n",
    "    sentiment_counts.plot(kind='bar', ax=axes[0], color=sentiment_colors)\n",
    "    axes[0].set_title('😊 Sentiment Distribution', fontsize=14, fontweight='bold')\n",
    "    axes[0].set_xlabel('Sentiment')\n",
    "    axes[0].set_ylabel('Count')\n",
    "    axes[0].tick_params(axis='x', rotation=45)\n",
    "    \n",
    "    # Pie chart\n",
    "    sentiment_counts.plot(kind='pie', ax=axes[1], autopct='%1.1f%%', colors=sentiment_colors)\n",
    "    axes[1].set_title('😊 Sentiment Percentage', fontsize=14, fontweight='bold')\n",
    "    axes[1].set_ylabel('')\n",
    "    \n",
    "    plt.tight_layout()\n",
    "    plt.show()"
   ]
  },
  {
   "cell_type": "markdown",
   "id": "b02d97a6",
   "metadata": {},
   "source": [
    "### ⭐ Rating Analysis"
   ]
  },
  {
   "cell_type": "code",
   "execution_count": null,
   "id": "aadfcdf3",
   "metadata": {},
   "outputs": [],
   "source": [
    "if not df.empty and 'rating' in df.columns:\n",
    "    fig, axes = plt.subplots(1, 2, figsize=(15, 5))\n",
    "    \n",
    "    # Rating distribution\n",
    "    rating_counts = df['rating'].value_counts().sort_index()\n",
    "    rating_counts.plot(kind='bar', ax=axes[0], color='gold')\n",
    "    axes[0].set_title('⭐ Rating Distribution', fontsize=14, fontweight='bold')\n",
    "    axes[0].set_xlabel('Rating')\n",
    "    axes[0].set_ylabel('Count')\n",
    "    axes[0].tick_params(axis='x', rotation=0)\n",
    "    \n",
    "    # Box plot\n",
    "    df.boxplot(column='rating', ax=axes[1])\n",
    "    axes[1].set_title('⭐ Rating Box Plot', fontsize=14, fontweight='bold')\n",
    "    axes[1].set_ylabel('Rating')\n",
    "    \n",
    "    plt.tight_layout()\n",
    "    plt.show()"
   ]
  },
  {
   "cell_type": "markdown",
   "id": "0aa79573",
   "metadata": {},
   "source": [
    "### ⚠️ Priority Analysis"
   ]
  },
  {
   "cell_type": "code",
   "execution_count": null,
   "id": "381c8721",
   "metadata": {},
   "outputs": [],
   "source": [
    "if not df.empty and 'priority' in df.columns:\n",
    "    priority_counts = df['priority'].value_counts()\n",
    "    colors_priority = {'high': '#e74c3c', 'medium': '#f39c12', 'low': '#2ecc71'}\n",
    "    priority_colors = [colors_priority.get(p, 'gray') for p in priority_counts.index]\n",
    "    \n",
    "    plt.figure(figsize=(10, 6))\n",
    "    priority_counts.plot(kind='bar', color=priority_colors)\n",
    "    plt.title('⚠️ Priority Distribution', fontsize=14, fontweight='bold')\n",
    "    plt.xlabel('Priority Level')\n",
    "    plt.ylabel('Count')\n",
    "    plt.xticks(rotation=45)\n",
    "    plt.tight_layout()\n",
    "    plt.show()"
   ]
  },
  {
   "cell_type": "markdown",
   "id": "6fd2b9c6",
   "metadata": {},
   "source": [
    "## 🔍 Deep Dive Analysis"
   ]
  },
  {
   "cell_type": "code",
   "execution_count": null,
   "id": "5012bf62",
   "metadata": {},
   "outputs": [],
   "source": [
    "# Category by Sentiment\n",
    "if not df.empty and 'category' in df.columns and 'sentiment' in df.columns:\n",
    "    category_sentiment = pd.crosstab(df['category'], df['sentiment'])\n",
    "    \n",
    "    plt.figure(figsize=(12, 6))\n",
    "    category_sentiment.plot(kind='bar', stacked=True, \n",
    "                           color=['#2ecc71', '#f39c12', '#e74c3c'],\n",
    "                           figsize=(12, 6))\n",
    "    plt.title('📊 Category vs Sentiment', fontsize=14, fontweight='bold')\n",
    "    plt.xlabel('Category')\n",
    "    plt.ylabel('Count')\n",
    "    plt.legend(title='Sentiment', bbox_to_anchor=(1.05, 1))\n",
    "    plt.xticks(rotation=45, ha='right')\n",
    "    plt.tight_layout()\n",
    "    plt.show()"
   ]
  },
  {
   "cell_type": "code",
   "execution_count": null,
   "id": "321e7343",
   "metadata": {},
   "outputs": [],
   "source": [
    "# Top issues by category\n",
    "if not df.empty and 'category' in df.columns and 'priority' in df.columns:\n",
    "    print('🔴 High Priority Issues by Category:\\n')\n",
    "    high_priority = df[df['priority'] == 'high']\n",
    "    \n",
    "    if not high_priority.empty:\n",
    "        category_high_priority = high_priority['category'].value_counts()\n",
    "        for cat, count in category_high_priority.items():\n",
    "            print(f'{cat}: {count} issues')\n",
    "        \n",
    "        # Show sample high priority issues\n",
    "        print('\\n📋 Sample High Priority Issues:')\n",
    "        display(high_priority[['category', 'rating', 'summary']].head(10))"
   ]
  },
  {
   "cell_type": "markdown",
   "id": "29adc415",
   "metadata": {},
   "source": [
    "## 💡 Export Insights"
   ]
  },
  {
   "cell_type": "code",
   "execution_count": null,
   "id": "36ad7a1f",
   "metadata": {},
   "outputs": [],
   "source": [
    "# Generate summary report\n",
    "if not df.empty:\n",
    "    summary = {\n",
    "        'Total Reviews': len(df),\n",
    "        'Average Rating': round(df['rating'].mean(), 2),\n",
    "        'Positive Reviews': len(df[df['sentiment'] == 'positive']) if 'sentiment' in df.columns else 'N/A',\n",
    "        'Negative Reviews': len(df[df['sentiment'] == 'negative']) if 'sentiment' in df.columns else 'N/A',\n",
    "        'High Priority Issues': len(df[df['priority'] == 'high']) if 'priority' in df.columns else 'N/A',\n",
    "        'Most Common Category': df['category'].mode()[0] if 'category' in df.columns else 'N/A',\n",
    "    }\n",
    "    \n",
    "    print('📊 Summary Report:')\n",
    "    print('=' * 50)\n",
    "    for key, value in summary.items():\n",
    "        print(f'{key}: {value}')\n",
    "    print('=' * 50)"
   ]
  },
  {
   "cell_type": "code",
   "execution_count": null,
   "id": "96bccaea",
   "metadata": {},
   "outputs": [],
   "source": [
    "# Save insights for dashboard\n",
    "if not df.empty:\n",
    "    # Create aggregated data for Looker Studio\n",
    "    insights_file = PROCESSED_DIR / 'insights_summary.csv'\n",
    "    \n",
    "    # Category summary\n",
    "    category_summary = df.groupby('category').agg({\n",
    "        'rating': ['count', 'mean'],\n",
    "        'priority': lambda x: (x == 'high').sum()\n",
    "    }).reset_index()\n",
    "    \n",
    "    category_summary.columns = ['category', 'total_reviews', 'avg_rating', 'high_priority_count']\n",
    "    category_summary.to_csv(insights_file, index=False)\n",
    "    \n",
    "    print(f'✅ Insights saved to: {insights_file}')"
   ]
  }
 ],
 "metadata": {
  "language_info": {
   "name": "python"
  }
 },
 "nbformat": 4,
 "nbformat_minor": 5
}
